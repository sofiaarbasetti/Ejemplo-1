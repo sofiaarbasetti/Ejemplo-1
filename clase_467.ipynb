{
  "nbformat": 4,
  "nbformat_minor": 0,
  "metadata": {
    "colab": {
      "name": "clase 4.ipynb",
      "provenance": [],
      "collapsed_sections": [],
      "authorship_tag": "ABX9TyODTw4EbYwunbrfezF87Fom",
      "include_colab_link": true
    },
    "kernelspec": {
      "name": "python3",
      "display_name": "Python 3"
    }
  },
  "cells": [
    {
      "cell_type": "markdown",
      "metadata": {
        "id": "view-in-github",
        "colab_type": "text"
      },
      "source": [
        "<a href=\"https://colab.research.google.com/github/sofiaarbasetti/Ejemplo-1/blob/master/clase_467.ipynb\" target=\"_parent\"><img src=\"https://colab.research.google.com/assets/colab-badge.svg\" alt=\"Open In Colab\"/></a>"
      ]
    },
    {
      "cell_type": "code",
      "metadata": {
        "id": "tYZwuk6O2WiJ",
        "colab_type": "code",
        "colab": {}
      },
      "source": [
        "# inicializar una lista:[] o list() \n",
        "lista= []\n",
        "type(lista)\n",
        "lista = list()"
      ],
      "execution_count": 0,
      "outputs": []
    },
    {
      "cell_type": "code",
      "metadata": {
        "id": "1iH24tug30Sg",
        "colab_type": "code",
        "outputId": "1f66dc84-deee-4ad4-b9e3-5d405b70bba9",
        "colab": {
          "base_uri": "https://localhost:8080/",
          "height": 87
        }
      },
      "source": [
        "lst_float = [2.34, 77.8, 92.3]\n",
        "lst_strings = ['casa', 'telefono', 'pato']\n",
        "lst_int = [1, 2, 3, 89]\n",
        "\n",
        "print(lst_float)\n",
        "print(lst_strings)\n",
        "print(lst_int)\n",
        "\n",
        "#agregamos un valor al final de la lista float\n",
        "lst_float.append(55.6)\n",
        "print(lst_float)\n"
      ],
      "execution_count": 0,
      "outputs": [
        {
          "output_type": "stream",
          "text": [
            "[2.34, 77.8, 92.3]\n",
            "['casa', 'telefono', 'pato']\n",
            "[1, 2, 3, 89]\n",
            "[2.34, 77.8, 92.3, 55.6]\n"
          ],
          "name": "stdout"
        }
      ]
    },
    {
      "cell_type": "code",
      "metadata": {
        "id": "A_8raVYE5Rp6",
        "colab_type": "code",
        "colab": {}
      },
      "source": [
        "lst_grupo = [lst_strings, lst_float, lst_int]"
      ],
      "execution_count": 0,
      "outputs": []
    },
    {
      "cell_type": "code",
      "metadata": {
        "id": "x4ExqwAf5wzs",
        "colab_type": "code",
        "outputId": "f0e1c220-98a6-4e36-8f57-a9e7b6e3fd99",
        "colab": {
          "base_uri": "https://localhost:8080/",
          "height": 34
        }
      },
      "source": [
        "#busco pato poniendo la lista y la posición\n",
        "lst_grupo[0][2]"
      ],
      "execution_count": 0,
      "outputs": [
        {
          "output_type": "execute_result",
          "data": {
            "text/plain": [
              "'pato'"
            ]
          },
          "metadata": {
            "tags": []
          },
          "execution_count": 5
        }
      ]
    },
    {
      "cell_type": "code",
      "metadata": {
        "id": "Ha_TqPvp6A5k",
        "colab_type": "code",
        "outputId": "0802930c-9846-4bb9-e06f-31fe258b9007",
        "colab": {
          "base_uri": "https://localhost:8080/",
          "height": 34
        }
      },
      "source": [
        "# puedo definir una variable y agregarla a una lista\n",
        "var = 90\n",
        "lst_int.append(var)\n",
        "print(lst_int)\n"
      ],
      "execution_count": 0,
      "outputs": [
        {
          "output_type": "stream",
          "text": [
            "[1, 2, 3, 89, 90]\n"
          ],
          "name": "stdout"
        }
      ]
    },
    {
      "cell_type": "code",
      "metadata": {
        "id": "KRh7b67v6mYl",
        "colab_type": "code",
        "outputId": "1fa9c58b-1880-4db4-c1c5-4f643b9856e4",
        "colab": {
          "base_uri": "https://localhost:8080/",
          "height": 34
        }
      },
      "source": [
        "# agrego un numero en alguna posicion con insert\n",
        "lista_5 = [1,2,3,5,6]    # se me olvida el 4\n",
        "lista_5.insert(3,4)\n",
        "print(lista_5)"
      ],
      "execution_count": 0,
      "outputs": [
        {
          "output_type": "stream",
          "text": [
            "[1, 2, 3, 4, 5, 6]\n"
          ],
          "name": "stdout"
        }
      ]
    },
    {
      "cell_type": "code",
      "metadata": {
        "id": "n9TbhtZV7dvz",
        "colab_type": "code",
        "outputId": "847b8b0d-cfe3-4037-e82f-e1dc0b6de10d",
        "colab": {
          "base_uri": "https://localhost:8080/",
          "height": 34
        }
      },
      "source": [
        "# belen ana y macarena, voy a anidar un ciclo de manera simple\n",
        "nombre = 'martin'\n",
        "\n",
        "if nombre == 'belen':\n",
        "  print(\"hola \"+nombre)\n",
        "elif nombre == 'ana':\n",
        "  print('hola '+nombre)\n",
        "elif nombre== 'macarena':\n",
        "  print('hola '+nombre)\n",
        "else:\n",
        "  print('no es belen ni ana ni macarena')"
      ],
      "execution_count": 0,
      "outputs": [
        {
          "output_type": "stream",
          "text": [
            "no es belen ni ana ni macarena\n"
          ],
          "name": "stdout"
        }
      ]
    },
    {
      "cell_type": "code",
      "metadata": {
        "id": "sxbc4irm-nA1",
        "colab_type": "code",
        "outputId": "232391db-c605-472d-d01d-04515327367d",
        "colab": {
          "base_uri": "https://localhost:8080/",
          "height": 87
        }
      },
      "source": [
        "lista_string = []\n",
        "lista_numerica = []\n",
        "lista_flotante = []\n",
        "lista_boleana = []\n",
        "\n",
        "lista_blend = ['casa', 1, '2', 4, True, 2.5]\n",
        "for item in lista_blend:\n",
        "  #print(item)\n",
        "  if type(item)== bool:\n",
        "    lista_boleana.append(item)\n",
        "  elif type(item) == str:\n",
        "    lista_string.append(item)\n",
        "  elif type(item)== int:\n",
        "    lista_numerica.append(item)\n",
        "  elif type(item)== float:\n",
        "    lista_flotante.append(item)\n",
        "  else:\n",
        "    print('el valor \"+item+\" no esta definido')\n",
        "\n",
        "print(lista_string)\n",
        "print(lista_numerica)\n",
        "print(lista_flotante)\n",
        "print(lista_boleana)\n",
        "\n",
        "\n"
      ],
      "execution_count": 0,
      "outputs": [
        {
          "output_type": "stream",
          "text": [
            "['casa', '2']\n",
            "[1, 4]\n",
            "[2.5]\n",
            "[True]\n"
          ],
          "name": "stdout"
        }
      ]
    },
    {
      "cell_type": "code",
      "metadata": {
        "id": "JueQkk7fDTu_",
        "colab_type": "code",
        "colab": {}
      },
      "source": [
        ""
      ],
      "execution_count": 0,
      "outputs": []
    },
    {
      "cell_type": "markdown",
      "metadata": {
        "id": "ncwVXaXUDnTd",
        "colab_type": "text"
      },
      "source": [
        "CLASE 6\n"
      ]
    },
    {
      "cell_type": "code",
      "metadata": {
        "id": "h4rJawxPDrcZ",
        "colab_type": "code",
        "colab": {}
      },
      "source": [
        ""
      ],
      "execution_count": 0,
      "outputs": []
    },
    {
      "cell_type": "code",
      "metadata": {
        "id": "uIw0_TgyAeZm",
        "colab_type": "code",
        "colab": {}
      },
      "source": [
        ""
      ],
      "execution_count": 0,
      "outputs": []
    },
    {
      "cell_type": "markdown",
      "metadata": {
        "id": "I-2Zl6k8Ae6i",
        "colab_type": "text"
      },
      "source": [
        "CLASE 7"
      ]
    },
    {
      "cell_type": "code",
      "metadata": {
        "id": "63lWkb4LAkes",
        "colab_type": "code",
        "colab": {}
      },
      "source": [
        ""
      ],
      "execution_count": 0,
      "outputs": []
    }
  ]
}